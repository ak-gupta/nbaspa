{
 "cells": [
  {
   "cell_type": "markdown",
   "id": "greatest-sudan",
   "metadata": {},
   "source": [
    "# Defining a custom XGBoost objective function for time-varying Cox proportional hazards models\n",
    "\n",
    "Suppose we have $n$ subjects and\n",
    "\n",
    "$$\n",
    "    h(t) = h_{0}(t) \\cdot e^{\\hat{y}_{i}(t)}\n",
    "$$\n",
    "\n",
    "If\n",
    "\n",
    "* $y_{i}$ is the event indicator for subject $i$ (1 means the subject had an event, 0 means the subject is censored),\n",
    "* $t_{i}$ is the event or censor time for subject $i$,\n",
    "* $\\hat{y}_{i}(t)$ is the predicted value for subject $i$ at time $t$ from XGBoost, and\n",
    "* $R_{i}$ is the set of observations with an event/censor time $t \\geq t_{i}$\n",
    "\n",
    "The Cox proportional hazards model defines the partial likelihood function as\n",
    "\n",
    "$$\n",
    "\\begin{eqnarray}\n",
    "             L(y, \\hat{y}) & = & \\prod_{i = 1}^{n} \\left(\\frac{e^{\\hat{y}_{i}(t_{i})}}{\\sum_{j \\in R_{i}} e^{\\hat{y}_{j}(t_{i})}}\\right)^{y_{i}} \\\\\n",
    "    \\implies l(y, \\hat{y}) & = & \\sum_{i = 1}^{n} y_{i} \\log \\left(\\frac{e^{\\hat{y}_{i}(t_{i})}}{\\sum_{j \\in R_{i}} e^{\\hat{y}_{j}(t_{i})}}\\right) \\\\\n",
    "    \\implies l(y, \\hat{y}) & = & \\sum_{i = 1}^{n} y_{i} \\left[ \\hat{y}_{i}(t_{i}) - \\log\\left(\\sum_{j \\in R_{i}} e^{\\hat{y}_{j}(t_{i})}\\right) \\right] \\\\\n",
    "\\end{eqnarray}\n",
    "$$\n",
    "\n",
    "For XGBoost, we will take the partial derivative of the negative observation-level partial log likelihood:\n",
    "\n",
    "$$\n",
    "\\begin{eqnarray}\n",
    "    \\frac{\\partial{l}}{\\partial{\\hat{y}_{i}}} & = & \\frac{\\partial}{\\partial{\\hat{y}_{i}}}\\left( y_{i} \\left[\\log\\left(\\sum_{j \\in R_{i}} e^{\\hat{y}_{j}(t_{i})}\\right) - \\hat{y}_{i}(t_{i}) \\right]\\right) \\\\\n",
    "                                              & = & y_{i} \\left[ e^{\\hat{y}_{i}(t_{i})} \\cdot \\frac{1}{\\sum_{j \\in R_{i}} e^{\\hat{y}_{j}(t_{i})}} - 1 \\right] \\\\\n",
    "\\end{eqnarray}\n",
    "$$\n",
    "\n",
    "The second derivative is\n",
    "\n",
    "$$\n",
    "\\begin{eqnarray}\n",
    "    \\frac{\\partial^{2}{l}}{\\partial{\\hat{y}_{i}}^{2}} & = & \\frac{\\partial{l}}{\\partial{\\hat{y}_{i}}} \\left( y_{i} \\left[ e^{\\hat{y}_{i}(t_{i})} \\cdot \\frac{1}{\\sum_{j \\in R_{i}} e^{\\hat{y}_{j}(t_{i})}} - 1 \\right] \\right)\\\\\n",
    "                                                      & = & \\hat{y}_{i} \\left[ \\frac{e^{\\hat{y}_{i}(t_{i})}}{\\sum_{j \\in R_{i}} e^{\\hat{y}_{j}(t_{i})}}  + e^{\\hat{y}_{i}(t_{i})} \\cdot \\left( \\frac{-1}{(\\sum_{j \\in R_{i}} e^{\\hat{y}_{j}(t_{i})})^{2}} \\cdot e^{\\hat{y}_{i}(t_{i})} \\right)\\right] \\\\\n",
    "                                                      & = & \\hat{y}_{i} \\left[ \\frac{e^{\\hat{y}_{i}(t_{i})}}{\\sum_{j \\in R_{i}} e^{\\hat{y}_{j}(t_{i})}} - \\frac{(e^{\\hat{y}_{i}(t_{i})})^{2}}{(\\sum_{j \\in R_{i}} e^{\\hat{y}_{j}(t_{i})})^{2}} \\right] \\\\\n",
    "\\end{eqnarray}\n",
    "$$"
   ]
  },
  {
   "cell_type": "code",
   "execution_count": 1,
   "id": "private-intensity",
   "metadata": {},
   "outputs": [],
   "source": [
    "import logging\n",
    "from pathlib import Path\n",
    "import sys\n",
    "import warnings\n",
    "\n",
    "warnings.simplefilter(action=\"ignore\", category=FutureWarning)\n",
    "\n",
    "import pandas as pd\n",
    "from prefect import Flow\n",
    "\n",
    "from nbaspa.model.tasks import (\n",
    "    SurvivalData,\n",
    "    SegmentData,\n",
    "    CollapseData,\n",
    "    ConcordanceIndex,\n",
    ")\n",
    "from nbaspa.model.tasks.xgboost import FitXGBoost\n",
    "\n",
    "pd.options.mode.chained_assignment = None\n",
    "\n",
    "logging.basicConfig(level=logging.INFO, stream=sys.stdout)"
   ]
  },
  {
   "cell_type": "code",
   "execution_count": 2,
   "id": "ranking-answer",
   "metadata": {},
   "outputs": [],
   "source": [
    "df = pd.concat(\n",
    "    pd.read_csv(fpath, sep=\"|\", dtype={\"GAME_ID\": str}, index_col=0)\n",
    "    for fpath in Path(\"..\", \"nba-data\", \"2018-19\", \"model-data\").glob(\"data_*.csv\")\n",
    ").reset_index(drop=True)"
   ]
  },
  {
   "cell_type": "code",
   "execution_count": 3,
   "id": "chemical-distance",
   "metadata": {},
   "outputs": [],
   "source": [
    "# Initial formatting and segmentation\n",
    "format_data = SurvivalData(name=\"Convert input data to range form\")\n",
    "segdata = SegmentData(name=\"Split data\")\n",
    "# Model training\n",
    "trained = FitXGBoost(name=\"Fit XGBoost\")"
   ]
  },
  {
   "cell_type": "code",
   "execution_count": 4,
   "id": "seasonal-possibility",
   "metadata": {},
   "outputs": [],
   "source": [
    "with Flow(name=\"XGBoost pipeline\") as flow:\n",
    "    # Format and segment the data into train, tune, test\n",
    "    alldata = format_data(df)\n",
    "    data = segdata(alldata, splits=[0.8], keys=[\"train\", \"test\"])\n",
    "    # Fit the model\n",
    "    fitted = trained(params={}, train_data=data[\"train\"], verbose_eval=True)"
   ]
  },
  {
   "cell_type": "code",
   "execution_count": 5,
   "id": "molecular-postage",
   "metadata": {},
   "outputs": [
    {
     "name": "stdout",
     "output_type": "stream",
     "text": [
      "[2021-02-18 03:58:37+0000] INFO - prefect.FlowRunner | Beginning Flow run for 'XGBoost pipeline'\n",
      "INFO:prefect.FlowRunner:Beginning Flow run for 'XGBoost pipeline'\n",
      "[2021-02-18 03:58:37+0000] INFO - prefect.TaskRunner | Task 'Convert input data to range form': Starting task run...\n",
      "INFO:prefect.TaskRunner:Task 'Convert input data to range form': Starting task run...\n",
      "[2021-02-18 03:59:04+0000] INFO - prefect.TaskRunner | Task 'Convert input data to range form': Finished task run for task with final state: 'Success'\n",
      "INFO:prefect.TaskRunner:Task 'Convert input data to range form': Finished task run for task with final state: 'Success'\n",
      "[2021-02-18 03:59:04+0000] INFO - prefect.TaskRunner | Task 'Split data': Starting task run...\n",
      "INFO:prefect.TaskRunner:Task 'Split data': Starting task run...\n",
      "[2021-02-18 03:59:04+0000] INFO - prefect.Split data | Setting the seed to 42\n",
      "INFO:prefect.Split data:Setting the seed to 42\n",
      "[2021-02-18 03:59:04+0000] INFO - prefect.Split data | Dataset ``train`` has 984 games with 116248 rows\n",
      "INFO:prefect.Split data:Dataset ``train`` has 984 games with 116248 rows\n",
      "[2021-02-18 03:59:04+0000] INFO - prefect.Split data | Dataset ``test`` has 246 games with 29079 rows\n",
      "INFO:prefect.Split data:Dataset ``test`` has 246 games with 29079 rows\n",
      "[2021-02-18 03:59:04+0000] INFO - prefect.TaskRunner | Task 'Split data': Finished task run for task with final state: 'Success'\n",
      "INFO:prefect.TaskRunner:Task 'Split data': Finished task run for task with final state: 'Success'\n",
      "[2021-02-18 03:59:04+0000] INFO - prefect.TaskRunner | Task 'GetItem': Starting task run...\n",
      "INFO:prefect.TaskRunner:Task 'GetItem': Starting task run...\n",
      "[2021-02-18 03:59:04+0000] INFO - prefect.TaskRunner | Task 'GetItem': Finished task run for task with final state: 'Success'\n",
      "INFO:prefect.TaskRunner:Task 'GetItem': Finished task run for task with final state: 'Success'\n",
      "[2021-02-18 03:59:05+0000] INFO - prefect.TaskRunner | Task 'Fit XGBoost': Starting task run...\n",
      "INFO:prefect.TaskRunner:Task 'Fit XGBoost': Starting task run...\n",
      "[2021-02-18 03:59:05+0000] INFO - prefect.Fit XGBoost | Training the model...\n",
      "INFO:prefect.Fit XGBoost:Training the model...\n",
      "[0]\ttrain-cox-nloglik:235.60869\n",
      "[1]\ttrain-cox-nloglik:235.60869\n",
      "[2]\ttrain-cox-nloglik:235.60869\n",
      "[3]\ttrain-cox-nloglik:235.60869\n",
      "[4]\ttrain-cox-nloglik:235.60869\n",
      "[5]\ttrain-cox-nloglik:235.60869\n",
      "[6]\ttrain-cox-nloglik:235.60869\n",
      "[7]\ttrain-cox-nloglik:235.60869\n",
      "[8]\ttrain-cox-nloglik:235.60869\n",
      "[9]\ttrain-cox-nloglik:235.60869\n",
      "[2021-02-18 03:59:13+0000] INFO - prefect.TaskRunner | Task 'Fit XGBoost': Finished task run for task with final state: 'Success'\n",
      "INFO:prefect.TaskRunner:Task 'Fit XGBoost': Finished task run for task with final state: 'Success'\n",
      "[2021-02-18 03:59:13+0000] INFO - prefect.FlowRunner | Flow run SUCCESS: all reference tasks succeeded\n",
      "INFO:prefect.FlowRunner:Flow run SUCCESS: all reference tasks succeeded\n"
     ]
    }
   ],
   "source": [
    "output = flow.run()"
   ]
  }
 ],
 "metadata": {
  "kernelspec": {
   "display_name": "Python 3",
   "language": "python",
   "name": "python3"
  },
  "language_info": {
   "codemirror_mode": {
    "name": "ipython",
    "version": 3
   },
   "file_extension": ".py",
   "mimetype": "text/x-python",
   "name": "python",
   "nbconvert_exporter": "python",
   "pygments_lexer": "ipython3",
   "version": "3.8.7"
  }
 },
 "nbformat": 4,
 "nbformat_minor": 5
}
